{
 "cells": [
  {
   "cell_type": "code",
   "execution_count": 1,
   "metadata": {},
   "outputs": [
    {
     "name": "stdout",
     "output_type": "stream",
     "text": [
      "\u001b[32m\u001b[1m  Updating\u001b[22m\u001b[39m registry at `~/.julia/registries/General`\n",
      "\u001b[32m\u001b[1m  Updating\u001b[22m\u001b[39m git-repo `https://github.com/JuliaRegistries/General.git`\n",
      "\u001b[?25l\u001b[2K\u001b[?25h\u001b[32m\u001b[1m Resolving\u001b[22m\u001b[39m package versions...\n",
      "\u001b[32m\u001b[1m  Updating\u001b[22m\u001b[39m `~/.julia/environments/v1.0/Project.toml`\n",
      "\u001b[90m [no changes]\u001b[39m\n",
      "\u001b[32m\u001b[1m  Updating\u001b[22m\u001b[39m `~/.julia/environments/v1.0/Manifest.toml`\n",
      "\u001b[90m [no changes]\u001b[39m\n"
     ]
    }
   ],
   "source": [
    "#Importing the necessary packages. \n",
    "import Pkg; Pkg.add(\"DataStructures\")"
   ]
  },
  {
   "cell_type": "code",
   "execution_count": 72,
   "metadata": {},
   "outputs": [],
   "source": [
    "using DataStructures: DefaultDict"
   ]
  },
  {
   "cell_type": "code",
   "execution_count": 73,
   "metadata": {},
   "outputs": [
    {
     "data": {
      "text/plain": [
       "\"aclImdb_v1/aclImdb/test/neg\""
      ]
     },
     "execution_count": 73,
     "metadata": {},
     "output_type": "execute_result"
    }
   ],
   "source": [
    "frequency_threshold = 10\n",
    "training_pos_folder = \"aclImdb_v1/aclImdb/train/pos\"\n",
    "training_neg_folder = \"aclImdb_v1/aclImdb/train/neg\"\n",
    "testing_pos_folder = \"aclImdb_v1/aclImdb/test/pos\"\n",
    "testing_neg_folder = \"aclImdb_v1/aclImdb/test/neg\""
   ]
  },
  {
   "cell_type": "code",
   "execution_count": 74,
   "metadata": {},
   "outputs": [
    {
     "data": {
      "text/plain": [
       "get_vocab_word (generic function with 1 method)"
      ]
     },
     "execution_count": 74,
     "metadata": {},
     "output_type": "execute_result"
    }
   ],
   "source": [
    "vocabulary = DefaultDict(0)\n",
    "get_vocab_word(x) = vocabulary[x] += 1"
   ]
  },
  {
   "cell_type": "code",
   "execution_count": 75,
   "metadata": {},
   "outputs": [
    {
     "data": {
      "text/plain": [
       "clean_punctuation (generic function with 1 method)"
      ]
     },
     "execution_count": 75,
     "metadata": {},
     "output_type": "execute_result"
    }
   ],
   "source": [
    "function clean_punctuation(review)\n",
    "    review=replace(lowercase(review), r\"<.*?>\"=>\" \")\n",
    "    review=replace(review, r\"[(?,.!;\\(\\)\\\")]\"=>\"\")\n",
    "    review\n",
    "end"
   ]
  },
  {
   "cell_type": "code",
   "execution_count": 76,
   "metadata": {},
   "outputs": [
    {
     "data": {
      "text/plain": [
       "load_data (generic function with 1 method)"
      ]
     },
     "execution_count": 76,
     "metadata": {},
     "output_type": "execute_result"
    }
   ],
   "source": [
    "function load_data(folder)\n",
    "    words_dict = DefaultDict(0)\n",
    "    get_word(x)= words_dict[x]+=1\n",
    "    num_labels = 0\n",
    "    for file in readdir(folder)\n",
    "        num_labels += 1\n",
    "        f = open(folder*\"/\" * file)\n",
    "        text = read(f, String)\n",
    "        #println(split(clean_punctuation(lowercase(text))))\n",
    "        get_word.(split(clean_punctuation(lowercase(text))))\n",
    "        get_vocab_word.(split(clean_punctuation(lowercase(text))))\n",
    "        close(f)\n",
    "    end\n",
    "    return words_dict, num_labels\n",
    "end"
   ]
  },
  {
   "cell_type": "code",
   "execution_count": 77,
   "metadata": {},
   "outputs": [
    {
     "data": {
      "text/plain": [
       "(DefaultDict{Any,Any,Int64}(\"redeemiing\"=>1,\"hand-smashing\"=>1,\"dial's\"=>3,\"inattentive\"=>1,\"f-86s\"=>2,\"romancethis\"=>1,\"sleepwalking\"=>18,\"photosynthesis\"=>1,\"henry\"=>124,\"young-ish\"=>1…), 12500)"
      ]
     },
     "execution_count": 77,
     "metadata": {},
     "output_type": "execute_result"
    }
   ],
   "source": [
    "# Loading the data.\n",
    "#Training data. \n",
    "training_pos_data, pos_num = load_data(training_pos_folder)\n",
    "training_neg_data, neg_num = load_data(training_neg_folder)"
   ]
  },
  {
   "cell_type": "code",
   "execution_count": 78,
   "metadata": {},
   "outputs": [
    {
     "data": {
      "text/plain": [
       "delete_less_frequent_words (generic function with 1 method)"
      ]
     },
     "execution_count": 78,
     "metadata": {},
     "output_type": "execute_result"
    }
   ],
   "source": [
    "function delete_less_frequent_words(dict, freq)\n",
    "    unknown_freq = 0\n",
    "    for key in keys(dict)\n",
    "        if dict[key] < freq\n",
    "            unknown_freq += dict[key]\n",
    "            delete!(dict, key)\n",
    "        end\n",
    "    end\n",
    "end"
   ]
  },
  {
   "cell_type": "code",
   "execution_count": 79,
   "metadata": {},
   "outputs": [],
   "source": [
    "delete_less_frequent_words(vocabulary, frequency_threshold)"
   ]
  },
  {
   "cell_type": "code",
   "execution_count": 80,
   "metadata": {},
   "outputs": [
    {
     "data": {
      "text/plain": [
       "fix_dict (generic function with 1 method)"
      ]
     },
     "execution_count": 80,
     "metadata": {},
     "output_type": "execute_result"
    }
   ],
   "source": [
    "function filter_dict(dict)\n",
    "    unknown_freq = 0\n",
    "    for key in keys(dict)\n",
    "        if !haskey(vocabulary, key)\n",
    "            unknown_freq += dict[key]\n",
    "            delete!(dict, key)\n",
    "        end\n",
    "    end\n",
    "    dict[\"UNK\"] = unknown_freq\n",
    "end"
   ]
  },
  {
   "cell_type": "code",
   "execution_count": 81,
   "metadata": {},
   "outputs": [
    {
     "data": {
      "text/plain": [
       "103086"
      ]
     },
     "execution_count": 81,
     "metadata": {},
     "output_type": "execute_result"
    }
   ],
   "source": [
    "filter_dict(training_pos_data)\n",
    "filter_dict(training_neg_data)"
   ]
  },
  {
   "cell_type": "code",
   "execution_count": 82,
   "metadata": {},
   "outputs": [
    {
     "data": {
      "text/plain": [
       "calc_probs (generic function with 1 method)"
      ]
     },
     "execution_count": 82,
     "metadata": {},
     "output_type": "execute_result"
    }
   ],
   "source": [
    "function calc_probs(training_pos_data, training_neg_data)\n",
    "    pos_probs = Dict()\n",
    "    neg_probs = Dict()\n",
    "    pos_sum = sum(values(training_pos_data))\n",
    "    neg_sum = sum(values(training_neg_data))\n",
    "    for key in keys(training_pos_data)\n",
    "        pos_probs[key] = training_pos_data[key] / pos_sum\n",
    "    end\n",
    "    for key in keys(training_neg_data)\n",
    "        neg_probs[key] = training_neg_data[key] / neg_sum\n",
    "    end\n",
    "    pos_probs, neg_probs\n",
    "end"
   ]
  },
  {
   "cell_type": "code",
   "execution_count": 83,
   "metadata": {},
   "outputs": [
    {
     "data": {
      "text/plain": [
       "0.5"
      ]
     },
     "execution_count": 83,
     "metadata": {},
     "output_type": "execute_result"
    }
   ],
   "source": [
    "pos_probs, neg_probs = calc_probs(training_pos_data, training_neg_data)\n",
    "q_pos = pos_num / (pos_num + neg_num)\n",
    "q_neg = neg_num / (pos_num + neg_num)"
   ]
  },
  {
   "cell_type": "code",
   "execution_count": 84,
   "metadata": {},
   "outputs": [
    {
     "data": {
      "text/plain": [
       "naive_bayes_accuracy (generic function with 1 method)"
      ]
     },
     "execution_count": 84,
     "metadata": {},
     "output_type": "execute_result"
    }
   ],
   "source": [
    "function naive_bayes_accuracy(pos_folder, neg_folder)\n",
    "    pos_examples, pos_correct = test_examples(pos_folder, true)\n",
    "    neg_examples, neg_correct = test_examples(neg_folder, false)\n",
    "    accuracy = (pos_correct + neg_correct) / (pos_examples + neg_examples)\n",
    "end"
   ]
  },
  {
   "cell_type": "code",
   "execution_count": 85,
   "metadata": {},
   "outputs": [
    {
     "data": {
      "text/plain": [
       "test_examples (generic function with 1 method)"
      ]
     },
     "execution_count": 85,
     "metadata": {},
     "output_type": "execute_result"
    }
   ],
   "source": [
    "function test_examples(folder, class)\n",
    "    examples_num = 0\n",
    "    correct_num = 0\n",
    "    for file in readdir(folder)\n",
    "        examples_num += 1\n",
    "        f = open(folder*\"/\" * file)\n",
    "        text = read(f, String)\n",
    "        words = split(clean_punctuation(lowercase(text)))\n",
    "        pos_prob = log(q_pos) + sum([log(get(pos_probs, word, pos_probs[\"UNK\"])) for word in words])\n",
    "        neg_prob = log(q_neg) + sum([log(get(neg_probs, word, neg_probs[\"UNK\"])) for word in words])\n",
    "        if (!class && neg_prob > pos_prob) || (class && neg_prob < pos_prob)\n",
    "            correct_num += 1\n",
    "        end\n",
    "        close(f)\n",
    "    end\n",
    "    examples_num, correct_num\n",
    "end"
   ]
  },
  {
   "cell_type": "code",
   "execution_count": 86,
   "metadata": {},
   "outputs": [
    {
     "data": {
      "text/plain": [
       "0.81032"
      ]
     },
     "execution_count": 86,
     "metadata": {},
     "output_type": "execute_result"
    }
   ],
   "source": [
    "naive_bayes_accuracy(testing_pos_folder,testing_neg_folder)"
   ]
  },
  {
   "cell_type": "code",
   "execution_count": null,
   "metadata": {},
   "outputs": [],
   "source": []
  },
  {
   "cell_type": "code",
   "execution_count": null,
   "metadata": {},
   "outputs": [],
   "source": []
  }
 ],
 "metadata": {
  "kernelspec": {
   "display_name": "Julia 1.0.3",
   "language": "julia",
   "name": "julia-1.0"
  },
  "language_info": {
   "file_extension": ".jl",
   "mimetype": "application/julia",
   "name": "julia",
   "version": "1.0.3"
  }
 },
 "nbformat": 4,
 "nbformat_minor": 2
}
